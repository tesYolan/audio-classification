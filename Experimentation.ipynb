{
 "cells": [
  {
   "cell_type": "code",
   "execution_count": 28,
   "id": "42ebfc21",
   "metadata": {},
   "outputs": [],
   "source": [
    "import muda\n",
    "import jams"
   ]
  },
  {
   "cell_type": "code",
   "execution_count": 29,
   "id": "4e1f8009",
   "metadata": {},
   "outputs": [],
   "source": [
    "jam = jams.JAMS()"
   ]
  },
  {
   "cell_type": "code",
   "execution_count": 31,
   "id": "99fda780",
   "metadata": {},
   "outputs": [],
   "source": [
    "jam = muda.load_jam_audio(jam,\"fold1_20/97317-2-0-34.wav\")"
   ]
  },
  {
   "cell_type": "code",
   "execution_count": 7,
   "id": "de6e5f9f",
   "metadata": {},
   "outputs": [],
   "source": [
    "import glob"
   ]
  },
  {
   "cell_type": "code",
   "execution_count": 8,
   "id": "e5a697ed",
   "metadata": {},
   "outputs": [],
   "source": [
    "y = glob.glob(\"fold*/*.wav\")"
   ]
  },
  {
   "cell_type": "code",
   "execution_count": 12,
   "id": "a8e53706",
   "metadata": {},
   "outputs": [],
   "source": [
    "import pathlib"
   ]
  },
  {
   "cell_type": "code",
   "execution_count": 15,
   "id": "982c5a00",
   "metadata": {},
   "outputs": [
    {
     "name": "stdout",
     "output_type": "stream",
     "text": [
      "99192-4-0-49\n",
      ".wav\n"
     ]
    }
   ],
   "source": [
    "print(pathlib.Path(y[0]).stem)\n",
    "print(pathlib.Path(y[0]).suffix)"
   ]
  },
  {
   "cell_type": "code",
   "execution_count": 19,
   "id": "13c569fc",
   "metadata": {},
   "outputs": [
    {
     "data": {
      "text/plain": [
       "dict_keys(['radio', 'film standard', 'film light', 'music standard', 'music light', 'speech'])"
      ]
     },
     "execution_count": 19,
     "metadata": {},
     "output_type": "execute_result"
    }
   ],
   "source": [
    "muda.deformers.PRESETS.keys()"
   ]
  },
  {
   "cell_type": "code",
   "execution_count": 23,
   "id": "89d02533",
   "metadata": {},
   "outputs": [
    {
     "data": {
      "text/plain": [
       "['0.01,1', '-90,-90,-70,-70,-60,-20,0,0', '-5']"
      ]
     },
     "execution_count": 23,
     "metadata": {},
     "output_type": "execute_result"
    }
   ],
   "source": [
    "muda.deformers.PRESETS['radio']"
   ]
  },
  {
   "cell_type": "code",
   "execution_count": 24,
   "id": "60da3087",
   "metadata": {},
   "outputs": [],
   "source": [
    "y = glob.glob(\"*.wav\")"
   ]
  },
  {
   "cell_type": "code",
   "execution_count": 25,
   "id": "2065ab8d",
   "metadata": {},
   "outputs": [
    {
     "data": {
      "text/plain": [
       "['207208__jormarp__high-street-of-gandia-valencia-spain.wav',\n",
       " 'background_noise_150993__saphe__street-scene-1.wav',\n",
       " '268903__yonts__city-park-tel-aviv-israel.wav',\n",
       " '173955__saphe__street-scene-3.wav']"
      ]
     },
     "execution_count": 25,
     "metadata": {},
     "output_type": "execute_result"
    }
   ],
   "source": [
    "y"
   ]
  },
  {
   "cell_type": "code",
   "execution_count": 26,
   "id": "41c144bd",
   "metadata": {},
   "outputs": [
    {
     "name": "stdout",
     "output_type": "stream",
     "text": [
      "DataAugmentation.py            \u001b[1m\u001b[36mfold5_20\u001b[m\u001b[m\r\n",
      "Experimentation.ipynb          \u001b[1m\u001b[36mfold6_20\u001b[m\u001b[m\r\n",
      "Image Feature Extraction.ipynb \u001b[1m\u001b[36mfold7_20\u001b[m\u001b[m\r\n",
      "fold.tar.xz                    \u001b[1m\u001b[36mfold8_20\u001b[m\u001b[m\r\n",
      "\u001b[1m\u001b[36mfold10_20\u001b[m\u001b[m                      \u001b[1m\u001b[36mfold9_20\u001b[m\u001b[m\r\n",
      "\u001b[1m\u001b[36mfold1_20\u001b[m\u001b[m                       israel.wav\r\n",
      "\u001b[1m\u001b[36mfold2_20\u001b[m\u001b[m                       spain.wav\r\n",
      "\u001b[1m\u001b[36mfold3_20\u001b[m\u001b[m                       street-1.wav\r\n",
      "\u001b[1m\u001b[36mfold4_20\u001b[m\u001b[m                       street3.wav\r\n"
     ]
    }
   ],
   "source": [
    "!ls"
   ]
  },
  {
   "cell_type": "code",
   "execution_count": 32,
   "id": "00effd62",
   "metadata": {},
   "outputs": [
    {
     "data": {
      "text/html": [
       "<div class=\"panel-group\"><div class=\"panel panel-default\"><div class=\"panel-heading\" role=\"tab\" id=\"heading-140714214989632-6\">\n",
       "                            <button\n",
       "                                type=\"button\"\n",
       "                                data-toggle=\"collapse\"\n",
       "                                data-parent=\"#accordion\"\n",
       "                                href=\"#140714214989632-6\"\n",
       "                                aria-expanded=\"false\"\n",
       "                                class=\"collapsed btn btn-block btn-primary\"\n",
       "                                aria-controls=\"140714214989632-6\">\n",
       "                                File Metadata </button></div><div class=\"panel-collapse collapse\"\n",
       "                                    id=\"140714214989632-6\"\n",
       "                                    role=\"tabpanel\"\n",
       "                                    aria-labelledby=\"hading140714214989632-6\">\n",
       "                                    <div class=\"panel-body\">\n",
       "                                        <div class=\"panel-group\"><div class=\"panel panel-danger\"><div class=\"panel-heading\">\n",
       "                                Artist&nbsp;\n",
       "                                <span class=\"pull-right\"><em></em></span>\n",
       "                           </div></div><div class=\"panel panel-danger\"><div class=\"panel-heading\">\n",
       "                                Title&nbsp;\n",
       "                                <span class=\"pull-right\"><em></em></span>\n",
       "                           </div></div><div class=\"panel panel-danger\"><div class=\"panel-heading\">\n",
       "                                Release&nbsp;\n",
       "                                <span class=\"pull-right\"><em></em></span>\n",
       "                           </div></div><div class=\"panel panel-default\"><div class=\"panel-heading\">\n",
       "                                Duration (s)&nbsp;\n",
       "                                <span class=\"pull-right\"><em>4.0</em></span>\n",
       "                           </div></div><div class=\"panel panel-default\"><div class=\"panel-heading\">\n",
       "                                JAMS version&nbsp;\n",
       "                                <span class=\"pull-right\"><em>0.3.4</em></span>\n",
       "                           </div></div><div class=\"panel panel-danger\"><div class=\"panel-heading\">\n",
       "                                Identifiers&nbsp;\n",
       "                                <span class=\"pull-right\"><em></em></span>\n",
       "                           </div></div></div>\n",
       "                                    </div>\n",
       "                                </div></div><div class=\"panel panel-danger\"><div class=\"panel-heading\">\n",
       "                                Annotations&nbsp;\n",
       "                                <span class=\"pull-right\"><em></em></span>\n",
       "                           </div></div><div class=\"panel panel-default\"><div class=\"panel-heading\" role=\"tab\" id=\"heading-140714214989440-10\">\n",
       "                            <button\n",
       "                                type=\"button\"\n",
       "                                data-toggle=\"collapse\"\n",
       "                                data-parent=\"#accordion\"\n",
       "                                href=\"#140714214989440-10\"\n",
       "                                aria-expanded=\"false\"\n",
       "                                class=\"collapsed btn btn-block btn-primary\"\n",
       "                                aria-controls=\"140714214989440-10\">\n",
       "                                Sandbox </button></div><div class=\"panel-collapse collapse\"\n",
       "                                    id=\"140714214989440-10\"\n",
       "                                    role=\"tabpanel\"\n",
       "                                    aria-labelledby=\"hading140714214989440-10\">\n",
       "                                    <div class=\"panel-body\">\n",
       "                                        <div class=\"panel-group\"><div class=\"panel panel-default\"><div class=\"panel-heading\" role=\"tab\" id=\"heading-140714215068864-9\">\n",
       "                            <button\n",
       "                                type=\"button\"\n",
       "                                data-toggle=\"collapse\"\n",
       "                                data-parent=\"#accordion\"\n",
       "                                href=\"#140714215068864-9\"\n",
       "                                aria-expanded=\"false\"\n",
       "                                class=\"collapsed btn btn-block btn-primary\"\n",
       "                                aria-controls=\"140714215068864-9\">\n",
       "                                muda </button></div><div class=\"panel-collapse collapse\"\n",
       "                                    id=\"140714215068864-9\"\n",
       "                                    role=\"tabpanel\"\n",
       "                                    aria-labelledby=\"hading140714215068864-9\">\n",
       "                                    <div class=\"panel-body\">\n",
       "                                        <div class=\"panel-group\"><div class=\"panel panel-default\"><div class=\"panel-heading\" role=\"tab\" id=\"heading-140714115616896-7\">\n",
       "                            <button\n",
       "                                type=\"button\"\n",
       "                                data-toggle=\"collapse\"\n",
       "                                data-parent=\"#accordion\"\n",
       "                                href=\"#140714115616896-7\"\n",
       "                                aria-expanded=\"false\"\n",
       "                                class=\"collapsed btn btn-block btn-primary\"\n",
       "                                aria-controls=\"140714115616896-7\">\n",
       "                                _audio </button></div><div class=\"panel-collapse collapse\"\n",
       "                                    id=\"140714115616896-7\"\n",
       "                                    role=\"tabpanel\"\n",
       "                                    aria-labelledby=\"hading140714115616896-7\">\n",
       "                                    <div class=\"panel-body\">\n",
       "                                        <table class=\"table\"><tbody> <tr>\n",
       "                            <th scope=\"row\">y</th>\n",
       "                            <td>[-0.02232968 -0.04442177 -0.03837962 ... -0.01550124  0.00212461\n",
       "  0.00272691]</td>\n",
       "                        </tr> <tr>\n",
       "                            <th scope=\"row\">sr</th>\n",
       "                            <td>22050</td>\n",
       "                        </tr></tbody></table>\n",
       "                                    </div>\n",
       "                                </div></div><div class=\"panel panel-danger\"><div class=\"panel-heading\">\n",
       "                                history&nbsp;\n",
       "                                <span class=\"pull-right\"><em></em></span>\n",
       "                           </div></div><div class=\"panel panel-danger\"><div class=\"panel-heading\">\n",
       "                                state&nbsp;\n",
       "                                <span class=\"pull-right\"><em></em></span>\n",
       "                           </div></div><div class=\"panel panel-default\"><div class=\"panel-heading\" role=\"tab\" id=\"heading-140714212091328-8\">\n",
       "                            <button\n",
       "                                type=\"button\"\n",
       "                                data-toggle=\"collapse\"\n",
       "                                data-parent=\"#accordion\"\n",
       "                                href=\"#140714212091328-8\"\n",
       "                                aria-expanded=\"false\"\n",
       "                                class=\"collapsed btn btn-block btn-primary\"\n",
       "                                aria-controls=\"140714212091328-8\">\n",
       "                                version </button></div><div class=\"panel-collapse collapse\"\n",
       "                                    id=\"140714212091328-8\"\n",
       "                                    role=\"tabpanel\"\n",
       "                                    aria-labelledby=\"hading140714212091328-8\">\n",
       "                                    <div class=\"panel-body\">\n",
       "                                        <table class=\"table\"><tbody> <tr>\n",
       "                            <th scope=\"row\">muda</th>\n",
       "                            <td>0.4.1</td>\n",
       "                        </tr> <tr>\n",
       "                            <th scope=\"row\">librosa</th>\n",
       "                            <td>0.8.0</td>\n",
       "                        </tr> <tr>\n",
       "                            <th scope=\"row\">jams</th>\n",
       "                            <td>0.3.4</td>\n",
       "                        </tr> <tr>\n",
       "                            <th scope=\"row\">pysoundfile</th>\n",
       "                            <td>0.9.0</td>\n",
       "                        </tr></tbody></table>\n",
       "                                    </div>\n",
       "                                </div></div></div>\n",
       "                                    </div>\n",
       "                                </div></div></div>\n",
       "                                    </div>\n",
       "                                </div></div></div>"
      ],
      "text/plain": [
       "<JAMS(file_metadata=<FileMetadata(...)>,\n",
       "      annotations=[0 annotations],\n",
       "      sandbox=<Sandbox(...)>)>"
      ]
     },
     "execution_count": 32,
     "metadata": {},
     "output_type": "execute_result"
    }
   ],
   "source": [
    "jam"
   ]
  },
  {
   "cell_type": "code",
   "execution_count": 34,
   "id": "b4649cfa",
   "metadata": {},
   "outputs": [],
   "source": [
    "bg_noises = [\"israel.wav\", \"spain.wav\", \"street-1.wav\", \"street3.wav\"]\n",
    "bg_transform = muda.deformers.BackgroundNoise(n_samples=1, files=bg_noises)"
   ]
  },
  {
   "cell_type": "code",
   "execution_count": 35,
   "id": "2dbeaacf",
   "metadata": {},
   "outputs": [],
   "source": [
    "for i, jam_out in enumerate(bg_transform.transform(jam)):\n",
    "    muda.save('output_{:02d}.wav'.format(i),'output_{:02d}.jams'.format(i),jam_out)\n",
    "    "
   ]
  },
  {
   "cell_type": "code",
   "execution_count": 36,
   "id": "4f53d380",
   "metadata": {},
   "outputs": [
    {
     "name": "stdout",
     "output_type": "stream",
     "text": [
      "DataAugmentation.py            \u001b[1m\u001b[36mfold9_20\u001b[m\u001b[m\r\n",
      "Experimentation.ipynb          israel.wav\r\n",
      "Image Feature Extraction.ipynb output_00.jams\r\n",
      "fold.tar.xz                    output_00.wav\r\n",
      "\u001b[1m\u001b[36mfold10_20\u001b[m\u001b[m                      output_01.jams\r\n",
      "\u001b[1m\u001b[36mfold1_20\u001b[m\u001b[m                       output_01.wav\r\n",
      "\u001b[1m\u001b[36mfold2_20\u001b[m\u001b[m                       output_02.jams\r\n",
      "\u001b[1m\u001b[36mfold3_20\u001b[m\u001b[m                       output_02.wav\r\n",
      "\u001b[1m\u001b[36mfold4_20\u001b[m\u001b[m                       output_03.jams\r\n",
      "\u001b[1m\u001b[36mfold5_20\u001b[m\u001b[m                       output_03.wav\r\n",
      "\u001b[1m\u001b[36mfold6_20\u001b[m\u001b[m                       spain.wav\r\n",
      "\u001b[1m\u001b[36mfold7_20\u001b[m\u001b[m                       street-1.wav\r\n",
      "\u001b[1m\u001b[36mfold8_20\u001b[m\u001b[m                       street3.wav\r\n"
     ]
    }
   ],
   "source": [
    "!ls"
   ]
  },
  {
   "cell_type": "code",
   "execution_count": 37,
   "id": "b35d5c1d",
   "metadata": {},
   "outputs": [
    {
     "data": {
      "text/plain": [
       "'fold10_20/99192-4-0-49.wav'"
      ]
     },
     "execution_count": 37,
     "metadata": {},
     "output_type": "execute_result"
    }
   ],
   "source": [
    "glob.glob(\"fold*/*.wav\")[0]"
   ]
  },
  {
   "cell_type": "code",
   "execution_count": null,
   "id": "12333820",
   "metadata": {},
   "outputs": [],
   "source": []
  },
  {
   "cell_type": "code",
   "execution_count": 39,
   "id": "ecb9d45f",
   "metadata": {},
   "outputs": [
    {
     "data": {
      "text/plain": [
       "'99192-4-0-49'"
      ]
     },
     "execution_count": 39,
     "metadata": {},
     "output_type": "execute_result"
    }
   ],
   "source": [
    "pathlib.Path(glob.glob(\"fold*/*.wav\")[0]).stem"
   ]
  },
  {
   "cell_type": "code",
   "execution_count": 40,
   "id": "60d47921",
   "metadata": {},
   "outputs": [
    {
     "data": {
      "text/plain": [
       "'.wav'"
      ]
     },
     "execution_count": 40,
     "metadata": {},
     "output_type": "execute_result"
    }
   ],
   "source": [
    "pathlib.Path(glob.glob(\"fold*/*.wav\")[0]).suffix"
   ]
  },
  {
   "cell_type": "code",
   "execution_count": 42,
   "id": "fa3d097f",
   "metadata": {},
   "outputs": [],
   "source": [
    "ksd = pathlib.Path(glob.glob(\"fold*/*.wav\")[0])"
   ]
  },
  {
   "cell_type": "code",
   "execution_count": 46,
   "id": "f61c0295",
   "metadata": {},
   "outputs": [
    {
     "data": {
      "text/plain": [
       "PosixPath('fold10_20')"
      ]
     },
     "execution_count": 46,
     "metadata": {},
     "output_type": "execute_result"
    }
   ],
   "source": [
    "ksd.parent"
   ]
  },
  {
   "cell_type": "code",
   "execution_count": 48,
   "id": "f60f9666",
   "metadata": {},
   "outputs": [
    {
     "name": "stdout",
     "output_type": "stream",
     "text": [
      "fold10_20/99192-4-0-49_bg_01.wav\n",
      "fold10_20/99192-4-0-49_bg_01.wav\n"
     ]
    }
   ],
   "source": [
    "file_name = pathlib.Path(glob.glob(\"fold*/*.wav\")[0]).stem\n",
    "parent = pathlib.Path(glob.glob(\"fold*/*.wav\")[0]).parent\n",
    "suffix_file = \"bg\"\n",
    "suffix = pathlib.Path(glob.glob(\"fold*/*.wav\")[0]).suffix\n",
    "i = 1\n",
    "print('{}/{}_{}_{:02d}{}'.format(parent, file_name, suffix_file,i, suffix))\n",
    "print('{}/{}_{}_{:02d}{}'.format(parent, file_name, suffix_file,i, suffix))"
   ]
  },
  {
   "cell_type": "code",
   "execution_count": 49,
   "id": "8d5f108e",
   "metadata": {},
   "outputs": [
    {
     "data": {
      "text/plain": [
       "PosixPath('fold10_20/99192-4-0-49.wav')"
      ]
     },
     "execution_count": 49,
     "metadata": {},
     "output_type": "execute_result"
    }
   ],
   "source": [
    "pathlib.Path(glob.glob(\"fold*/*.wav\")[0])"
   ]
  },
  {
   "cell_type": "code",
   "execution_count": null,
   "id": "51e12814",
   "metadata": {},
   "outputs": [],
   "source": []
  }
 ],
 "metadata": {
  "kernelspec": {
   "display_name": "Python 3",
   "language": "python",
   "name": "python3"
  },
  "language_info": {
   "codemirror_mode": {
    "name": "ipython",
    "version": 3
   },
   "file_extension": ".py",
   "mimetype": "text/x-python",
   "name": "python",
   "nbconvert_exporter": "python",
   "pygments_lexer": "ipython3",
   "version": "3.8.8"
  }
 },
 "nbformat": 4,
 "nbformat_minor": 5
}
